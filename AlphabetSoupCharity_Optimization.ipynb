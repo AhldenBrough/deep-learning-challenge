{
  "nbformat": 4,
  "nbformat_minor": 0,
  "metadata": {
    "colab": {
      "provenance": []
    },
    "kernelspec": {
      "name": "python3",
      "display_name": "Python 3"
    },
    "language_info": {
      "name": "python"
    }
  },
  "cells": [
    {
      "cell_type": "code",
      "execution_count": 23,
      "metadata": {
        "id": "uJWh0buMiECC"
      },
      "outputs": [],
      "source": [
        "# Import our dependencies\n",
        "from sklearn.model_selection import train_test_split\n",
        "from sklearn.preprocessing import StandardScaler\n",
        "import pandas as pd\n",
        "import tensorflow as tf\n",
        "import keras_tuner as kt\n",
        "#  Import and read the charity_data.csv.\n",
        "import pandas as pd\n",
        "application_df = pd.read_csv(\"https://static.bc-edx.com/data/dl-1-2/m21/lms/starter/charity_data.csv\")\n",
        "application_df.head()\n",
        "from tensorflow.keras.callbacks import EarlyStopping\n"
      ]
    },
    {
      "cell_type": "code",
      "source": [
        "# Drop the non-beneficial ID columns, 'EIN' and 'NAME'.\n",
        "del application_df['EIN']\n",
        "del application_df['NAME']"
      ],
      "metadata": {
        "id": "kuLN99AJiU6y"
      },
      "execution_count": 4,
      "outputs": []
    },
    {
      "cell_type": "code",
      "source": [
        "# Choose a cutoff value and create a list of application types to be replaced\n",
        "# use the variable name `application_types_to_replace`\n",
        "application_types_to_replace = ['T9', 'T13', 'T12', 'T2', 'T25', 'T14', 'T29', 'T15', 'T17', 'T8', 'T7', 'T10']\n",
        "# Replace in dataframe\n",
        "for app in application_types_to_replace:\n",
        "    application_df['APPLICATION_TYPE'] = application_df['APPLICATION_TYPE'].replace(app,\"Other\")\n",
        "\n",
        "# Check to make sure binning was successful\n",
        "application_df['APPLICATION_TYPE'].value_counts()"
      ],
      "metadata": {
        "colab": {
          "base_uri": "https://localhost:8080/"
        },
        "id": "awAsvd8xjpSD",
        "outputId": "42946aef-17f9-4829-f100-83b2748ed0ad"
      },
      "execution_count": 5,
      "outputs": [
        {
          "output_type": "execute_result",
          "data": {
            "text/plain": [
              "T3       27037\n",
              "Other     2266\n",
              "T4        1542\n",
              "T6        1216\n",
              "T5        1173\n",
              "T19       1065\n",
              "Name: APPLICATION_TYPE, dtype: int64"
            ]
          },
          "metadata": {},
          "execution_count": 5
        }
      ]
    },
    {
      "cell_type": "code",
      "source": [
        "vc = application_df['CLASSIFICATION'].value_counts()\n",
        "# Choose a cutoff value and create a list of classifications to be replaced\n",
        "# use the variable name `classifications_to_replace`\n",
        "classifications_to_replace = vc[vc<1883].keys()\n",
        "#print(classifications_to_replace)\n",
        "# Replace in dataframe\n",
        "for cls in classifications_to_replace:\n",
        "    #print(cls)\n",
        "    application_df['CLASSIFICATION'] = application_df['CLASSIFICATION'].replace(cls,\"Other\")\n",
        "\n",
        "# Check to make sure binning was successful\n",
        "application_df['CLASSIFICATION'].value_counts()"
      ],
      "metadata": {
        "colab": {
          "base_uri": "https://localhost:8080/"
        },
        "id": "Q2BIyrI0j0ED",
        "outputId": "3fa53e69-8c41-478c-9dcc-99241b8eb570"
      },
      "execution_count": 6,
      "outputs": [
        {
          "output_type": "execute_result",
          "data": {
            "text/plain": [
              "C1000    17326\n",
              "C2000     6074\n",
              "C1200     4837\n",
              "Other     2261\n",
              "C3000     1918\n",
              "C2100     1883\n",
              "Name: CLASSIFICATION, dtype: int64"
            ]
          },
          "metadata": {},
          "execution_count": 6
        }
      ]
    },
    {
      "cell_type": "code",
      "source": [
        "# Convert categorical data to numeric with `pd.get_dummies`\n",
        "one_hot = pd.get_dummies(application_df, [\"APPLICATION_TYPE\", \"AFFILIATION\", \"CLASSIFICATION\", \"USE_CASE\", \"ORGANIZATION\", \"INCOME_AMT\", \"SPECIAL_CONSIDERATIONS\"])"
      ],
      "metadata": {
        "id": "Z-6JfoI3j9IR"
      },
      "execution_count": 7,
      "outputs": []
    },
    {
      "cell_type": "code",
      "source": [
        "# Split our preprocessed data into our features and target arrays\n",
        "X, y = one_hot.drop('IS_SUCCESSFUL', axis=1), one_hot['IS_SUCCESSFUL']\n",
        "# Split the preprocessed data into a training and testing dataset\n",
        "X_train, X_test, y_train, y_test = train_test_split(X, y)"
      ],
      "metadata": {
        "id": "e_lD08BXj-2K"
      },
      "execution_count": 8,
      "outputs": []
    },
    {
      "cell_type": "code",
      "source": [
        "# Create a StandardScaler instances\n",
        "scaler = StandardScaler()\n",
        "\n",
        "# Fit the StandardScaler\n",
        "X_scaler = scaler.fit(X_train)\n",
        "\n",
        "# Scale the data\n",
        "X_train_scaled = X_scaler.transform(X_train)\n",
        "X_test_scaled = X_scaler.transform(X_test)"
      ],
      "metadata": {
        "id": "_BcNeJ0vkBhD"
      },
      "execution_count": 9,
      "outputs": []
    },
    {
      "cell_type": "code",
      "source": [
        "# Define the model - deep neural net, i.e., the number of input features and hidden nodes for each layer.\n",
        "#  YOUR CODE GOES HERE\n",
        "\n",
        "nn_model = tf.keras.models.Sequential()\n",
        "\n",
        "# First hidden layer\n",
        "nn_model.add(tf.keras.layers.Dense(input_dim=40, units=6, activation=\"tanh\"))\n",
        "\n",
        "# Second hidden layer\n",
        "nn_model.add(tf.keras.layers.Dense(units=6, activation=\"tanh\"))\n",
        "\n",
        "# Third hidden layer\n",
        "nn_model.add(tf.keras.layers.Dense(units=3, activation=\"tanh\"))\n",
        "\n",
        "# Output layer\n",
        "nn_model.add(tf.keras.layers.Dense(units=1, activation=\"sigmoid\"))\n",
        "\n",
        "# Check the structure of the model\n",
        "nn_model.summary()"
      ],
      "metadata": {
        "colab": {
          "base_uri": "https://localhost:8080/"
        },
        "id": "Z8YTDWXMkEV8",
        "outputId": "31b85380-c2ad-4ada-a1f1-afac9164c758"
      },
      "execution_count": 18,
      "outputs": [
        {
          "output_type": "stream",
          "name": "stdout",
          "text": [
            "Model: \"sequential_3\"\n",
            "_________________________________________________________________\n",
            " Layer (type)                Output Shape              Param #   \n",
            "=================================================================\n",
            " dense_10 (Dense)            (None, 6)                 246       \n",
            "                                                                 \n",
            " dense_11 (Dense)            (None, 6)                 42        \n",
            "                                                                 \n",
            " dense_12 (Dense)            (None, 3)                 21        \n",
            "                                                                 \n",
            " dense_13 (Dense)            (None, 1)                 4         \n",
            "                                                                 \n",
            "=================================================================\n",
            "Total params: 313 (1.22 KB)\n",
            "Trainable params: 313 (1.22 KB)\n",
            "Non-trainable params: 0 (0.00 Byte)\n",
            "_________________________________________________________________\n"
          ]
        }
      ]
    },
    {
      "cell_type": "code",
      "source": [
        "# Compile the model\n",
        "nn_model.compile(loss=\"binary_crossentropy\", optimizer=\"adam\", metrics=[\"accuracy\"])\n",
        "nn_model.save(\"/Users/ahlden/DataAnalytics/deep-learning-challenge/model1.h5\")"
      ],
      "metadata": {
        "id": "9l1P0ysPkHw_"
      },
      "execution_count": 19,
      "outputs": []
    },
    {
      "cell_type": "code",
      "source": [
        "# Train the model\n",
        "nn_model = tf.keras.models.load_model(\"/Users/ahlden/DataAnalytics/deep-learning-challenge/model1.h5\")\n",
        "fit_model = nn_model.fit(X_train_scaled, y_train, epochs=50)"
      ],
      "metadata": {
        "colab": {
          "base_uri": "https://localhost:8080/"
        },
        "id": "hSP0pxtPkH2O",
        "outputId": "aeec718f-4544-4954-e374-5ad2d75236dd"
      },
      "execution_count": 20,
      "outputs": [
        {
          "output_type": "stream",
          "name": "stdout",
          "text": [
            "Epoch 1/50\n",
            "804/804 [==============================] - 3s 3ms/step - loss: 0.6033 - accuracy: 0.6876\n",
            "Epoch 2/50\n",
            "804/804 [==============================] - 1s 2ms/step - loss: 0.5707 - accuracy: 0.7222\n",
            "Epoch 3/50\n",
            "804/804 [==============================] - 1s 2ms/step - loss: 0.5668 - accuracy: 0.7227\n",
            "Epoch 4/50\n",
            "804/804 [==============================] - 1s 2ms/step - loss: 0.5642 - accuracy: 0.7243\n",
            "Epoch 5/50\n",
            "804/804 [==============================] - 1s 2ms/step - loss: 0.5627 - accuracy: 0.7270\n",
            "Epoch 6/50\n",
            "804/804 [==============================] - 1s 2ms/step - loss: 0.5615 - accuracy: 0.7281\n",
            "Epoch 7/50\n",
            "804/804 [==============================] - 1s 2ms/step - loss: 0.5606 - accuracy: 0.7281\n",
            "Epoch 8/50\n",
            "804/804 [==============================] - 1s 2ms/step - loss: 0.5600 - accuracy: 0.7287\n",
            "Epoch 9/50\n",
            "804/804 [==============================] - 2s 3ms/step - loss: 0.5594 - accuracy: 0.7304\n",
            "Epoch 10/50\n",
            "804/804 [==============================] - 2s 2ms/step - loss: 0.5585 - accuracy: 0.7284\n",
            "Epoch 11/50\n",
            "804/804 [==============================] - 1s 2ms/step - loss: 0.5582 - accuracy: 0.7303\n",
            "Epoch 12/50\n",
            "804/804 [==============================] - 1s 2ms/step - loss: 0.5576 - accuracy: 0.7295\n",
            "Epoch 13/50\n",
            "804/804 [==============================] - 1s 2ms/step - loss: 0.5570 - accuracy: 0.7299\n",
            "Epoch 14/50\n",
            "804/804 [==============================] - 2s 3ms/step - loss: 0.5568 - accuracy: 0.7292\n",
            "Epoch 15/50\n",
            "804/804 [==============================] - 2s 3ms/step - loss: 0.5564 - accuracy: 0.7298\n",
            "Epoch 16/50\n",
            "804/804 [==============================] - 2s 3ms/step - loss: 0.5561 - accuracy: 0.7290\n",
            "Epoch 17/50\n",
            "804/804 [==============================] - 2s 2ms/step - loss: 0.5556 - accuracy: 0.7305\n",
            "Epoch 18/50\n",
            "804/804 [==============================] - 1s 2ms/step - loss: 0.5553 - accuracy: 0.7287\n",
            "Epoch 19/50\n",
            "804/804 [==============================] - 1s 2ms/step - loss: 0.5550 - accuracy: 0.7305\n",
            "Epoch 20/50\n",
            "804/804 [==============================] - 1s 2ms/step - loss: 0.5551 - accuracy: 0.7301\n",
            "Epoch 21/50\n",
            "804/804 [==============================] - 1s 2ms/step - loss: 0.5548 - accuracy: 0.7291\n",
            "Epoch 22/50\n",
            "804/804 [==============================] - 1s 2ms/step - loss: 0.5545 - accuracy: 0.7307\n",
            "Epoch 23/50\n",
            "804/804 [==============================] - 1s 2ms/step - loss: 0.5545 - accuracy: 0.7305\n",
            "Epoch 24/50\n",
            "804/804 [==============================] - 2s 3ms/step - loss: 0.5544 - accuracy: 0.7314\n",
            "Epoch 25/50\n",
            "804/804 [==============================] - 2s 2ms/step - loss: 0.5542 - accuracy: 0.7307\n",
            "Epoch 26/50\n",
            "804/804 [==============================] - 1s 2ms/step - loss: 0.5541 - accuracy: 0.7310\n",
            "Epoch 27/50\n",
            "804/804 [==============================] - 1s 2ms/step - loss: 0.5537 - accuracy: 0.7292\n",
            "Epoch 28/50\n",
            "804/804 [==============================] - 2s 2ms/step - loss: 0.5537 - accuracy: 0.7307\n",
            "Epoch 29/50\n",
            "804/804 [==============================] - 1s 2ms/step - loss: 0.5537 - accuracy: 0.7308\n",
            "Epoch 30/50\n",
            "804/804 [==============================] - 1s 2ms/step - loss: 0.5534 - accuracy: 0.7310\n",
            "Epoch 31/50\n",
            "804/804 [==============================] - 1s 2ms/step - loss: 0.5531 - accuracy: 0.7310\n",
            "Epoch 32/50\n",
            "804/804 [==============================] - 2s 2ms/step - loss: 0.5531 - accuracy: 0.7310\n",
            "Epoch 33/50\n",
            "804/804 [==============================] - 2s 2ms/step - loss: 0.5531 - accuracy: 0.7315\n",
            "Epoch 34/50\n",
            "804/804 [==============================] - 1s 2ms/step - loss: 0.5530 - accuracy: 0.7308\n",
            "Epoch 35/50\n",
            "804/804 [==============================] - 1s 2ms/step - loss: 0.5527 - accuracy: 0.7311\n",
            "Epoch 36/50\n",
            "804/804 [==============================] - 1s 2ms/step - loss: 0.5526 - accuracy: 0.7306\n",
            "Epoch 37/50\n",
            "804/804 [==============================] - 1s 2ms/step - loss: 0.5527 - accuracy: 0.7317\n",
            "Epoch 38/50\n",
            "804/804 [==============================] - 1s 2ms/step - loss: 0.5527 - accuracy: 0.7313\n",
            "Epoch 39/50\n",
            "804/804 [==============================] - 1s 2ms/step - loss: 0.5523 - accuracy: 0.7314\n",
            "Epoch 40/50\n",
            "804/804 [==============================] - 2s 2ms/step - loss: 0.5526 - accuracy: 0.7297\n",
            "Epoch 41/50\n",
            "804/804 [==============================] - 2s 2ms/step - loss: 0.5523 - accuracy: 0.7324\n",
            "Epoch 42/50\n",
            "804/804 [==============================] - 1s 2ms/step - loss: 0.5525 - accuracy: 0.7310\n",
            "Epoch 43/50\n",
            "804/804 [==============================] - 1s 2ms/step - loss: 0.5520 - accuracy: 0.7310\n",
            "Epoch 44/50\n",
            "804/804 [==============================] - 1s 2ms/step - loss: 0.5523 - accuracy: 0.7307\n",
            "Epoch 45/50\n",
            "804/804 [==============================] - 1s 2ms/step - loss: 0.5522 - accuracy: 0.7312\n",
            "Epoch 46/50\n",
            "804/804 [==============================] - 2s 2ms/step - loss: 0.5520 - accuracy: 0.7323\n",
            "Epoch 47/50\n",
            "804/804 [==============================] - 1s 2ms/step - loss: 0.5520 - accuracy: 0.7316\n",
            "Epoch 48/50\n",
            "804/804 [==============================] - 2s 3ms/step - loss: 0.5518 - accuracy: 0.7314\n",
            "Epoch 49/50\n",
            "804/804 [==============================] - 2s 2ms/step - loss: 0.5516 - accuracy: 0.7300\n",
            "Epoch 50/50\n",
            "804/804 [==============================] - 1s 2ms/step - loss: 0.5518 - accuracy: 0.7307\n"
          ]
        }
      ]
    },
    {
      "cell_type": "code",
      "source": [
        "# Evaluate the model using the test data\n",
        "model_loss, model_accuracy = nn_model.evaluate(X_test_scaled,y_test,verbose=2)\n",
        "print(f\"Loss: {model_loss}, Accuracy: {model_accuracy}\")"
      ],
      "metadata": {
        "colab": {
          "base_uri": "https://localhost:8080/"
        },
        "id": "H6Ipg0xVkjli",
        "outputId": "69b535f7-5d3d-4c21-a6fd-fecc92b265a1"
      },
      "execution_count": 21,
      "outputs": [
        {
          "output_type": "stream",
          "name": "stdout",
          "text": [
            "268/268 - 0s - loss: 0.5516 - accuracy: 0.7319 - 439ms/epoch - 2ms/step\n",
            "Loss: 0.5516056418418884, Accuracy: 0.7318950295448303\n"
          ]
        }
      ]
    },
    {
      "cell_type": "code",
      "source": [
        "# Define the model - deep neural net, i.e., the number of input features and hidden nodes for each layer.\n",
        "#  YOUR CODE GOES HERE\n",
        "\n",
        "nn_model2 = tf.keras.models.Sequential()\n",
        "\n",
        "# First hidden layer\n",
        "nn_model2.add(tf.keras.layers.Dense(input_dim=40, units=6, activation=\"tanh\"))\n",
        "\n",
        "# Second hidden layer\n",
        "nn_model2.add(tf.keras.layers.Dense(units=12, activation=\"tanh\"))\n",
        "\n",
        "# Third hidden layer\n",
        "nn_model2.add(tf.keras.layers.Dense(units=6, activation=\"tanh\"))\n",
        "\n",
        "# Output layer\n",
        "nn_model2.add(tf.keras.layers.Dense(units=1, activation=\"sigmoid\"))\n",
        "\n",
        "# Check the structure of the model\n",
        "nn_model2.summary()\n",
        "\n",
        "early_stopping = EarlyStopping(monitor='val_loss', patience=5, restore_best_weights=True)"
      ],
      "metadata": {
        "colab": {
          "base_uri": "https://localhost:8080/"
        },
        "id": "gaQIicZPkmqF",
        "outputId": "d8d2ec61-6304-41e8-921f-edccb9bd4d22"
      },
      "execution_count": 30,
      "outputs": [
        {
          "output_type": "stream",
          "name": "stdout",
          "text": [
            "Model: \"sequential_6\"\n",
            "_________________________________________________________________\n",
            " Layer (type)                Output Shape              Param #   \n",
            "=================================================================\n",
            " dense_22 (Dense)            (None, 6)                 246       \n",
            "                                                                 \n",
            " dense_23 (Dense)            (None, 12)                84        \n",
            "                                                                 \n",
            " dense_24 (Dense)            (None, 6)                 78        \n",
            "                                                                 \n",
            " dense_25 (Dense)            (None, 1)                 7         \n",
            "                                                                 \n",
            "=================================================================\n",
            "Total params: 415 (1.62 KB)\n",
            "Trainable params: 415 (1.62 KB)\n",
            "Non-trainable params: 0 (0.00 Byte)\n",
            "_________________________________________________________________\n"
          ]
        }
      ]
    },
    {
      "cell_type": "code",
      "source": [
        "# Compile the model\n",
        "nn_model2.compile(loss=\"binary_crossentropy\", optimizer=\"adam\", metrics=[\"accuracy\"])\n",
        "nn_model2.save(\"/Users/ahlden/DataAnalytics/deep-learning-challenge/model2.h5\")"
      ],
      "metadata": {
        "colab": {
          "base_uri": "https://localhost:8080/"
        },
        "id": "l6Gnm5FLn3z4",
        "outputId": "fdc6a3e5-6252-4949-bec8-b1737a41df97"
      },
      "execution_count": 31,
      "outputs": [
        {
          "output_type": "stream",
          "name": "stderr",
          "text": [
            "/usr/local/lib/python3.10/dist-packages/keras/src/engine/training.py:3103: UserWarning: You are saving your model as an HDF5 file via `model.save()`. This file format is considered legacy. We recommend using instead the native Keras format, e.g. `model.save('my_model.keras')`.\n",
            "  saving_api.save_model(\n"
          ]
        }
      ]
    },
    {
      "cell_type": "code",
      "source": [
        "history = nn_model2.fit(X_train_scaled, y_train, epochs=100, batch_size=64,\n",
        "                        validation_split=0.2, callbacks=[early_stopping], verbose=2)"
      ],
      "metadata": {
        "colab": {
          "base_uri": "https://localhost:8080/"
        },
        "id": "gc2TnVZmnsmM",
        "outputId": "3df3bf68-d58a-4aaa-b582-e431c56b983e"
      },
      "execution_count": 32,
      "outputs": [
        {
          "output_type": "stream",
          "name": "stdout",
          "text": [
            "Epoch 1/100\n",
            "322/322 - 2s - loss: 0.6246 - accuracy: 0.6655 - val_loss: 0.5701 - val_accuracy: 0.7291 - 2s/epoch - 5ms/step\n",
            "Epoch 2/100\n",
            "322/322 - 1s - loss: 0.5808 - accuracy: 0.7121 - val_loss: 0.5602 - val_accuracy: 0.7341 - 614ms/epoch - 2ms/step\n",
            "Epoch 3/100\n",
            "322/322 - 1s - loss: 0.5738 - accuracy: 0.7189 - val_loss: 0.5546 - val_accuracy: 0.7378 - 672ms/epoch - 2ms/step\n",
            "Epoch 4/100\n",
            "322/322 - 1s - loss: 0.5697 - accuracy: 0.7229 - val_loss: 0.5515 - val_accuracy: 0.7394 - 619ms/epoch - 2ms/step\n",
            "Epoch 5/100\n",
            "322/322 - 1s - loss: 0.5677 - accuracy: 0.7237 - val_loss: 0.5510 - val_accuracy: 0.7386 - 660ms/epoch - 2ms/step\n",
            "Epoch 6/100\n",
            "322/322 - 1s - loss: 0.5662 - accuracy: 0.7237 - val_loss: 0.5489 - val_accuracy: 0.7415 - 624ms/epoch - 2ms/step\n",
            "Epoch 7/100\n",
            "322/322 - 1s - loss: 0.5648 - accuracy: 0.7258 - val_loss: 0.5478 - val_accuracy: 0.7407 - 666ms/epoch - 2ms/step\n",
            "Epoch 8/100\n",
            "322/322 - 1s - loss: 0.5634 - accuracy: 0.7240 - val_loss: 0.5475 - val_accuracy: 0.7419 - 678ms/epoch - 2ms/step\n",
            "Epoch 9/100\n",
            "322/322 - 1s - loss: 0.5626 - accuracy: 0.7257 - val_loss: 0.5469 - val_accuracy: 0.7392 - 648ms/epoch - 2ms/step\n",
            "Epoch 10/100\n",
            "322/322 - 1s - loss: 0.5619 - accuracy: 0.7263 - val_loss: 0.5449 - val_accuracy: 0.7436 - 609ms/epoch - 2ms/step\n",
            "Epoch 11/100\n",
            "322/322 - 1s - loss: 0.5614 - accuracy: 0.7258 - val_loss: 0.5450 - val_accuracy: 0.7427 - 668ms/epoch - 2ms/step\n",
            "Epoch 12/100\n",
            "322/322 - 1s - loss: 0.5601 - accuracy: 0.7259 - val_loss: 0.5452 - val_accuracy: 0.7419 - 662ms/epoch - 2ms/step\n",
            "Epoch 13/100\n",
            "322/322 - 1s - loss: 0.5599 - accuracy: 0.7270 - val_loss: 0.5475 - val_accuracy: 0.7397 - 612ms/epoch - 2ms/step\n",
            "Epoch 14/100\n",
            "322/322 - 1s - loss: 0.5589 - accuracy: 0.7269 - val_loss: 0.5446 - val_accuracy: 0.7405 - 798ms/epoch - 2ms/step\n",
            "Epoch 15/100\n",
            "322/322 - 1s - loss: 0.5584 - accuracy: 0.7272 - val_loss: 0.5437 - val_accuracy: 0.7429 - 847ms/epoch - 3ms/step\n",
            "Epoch 16/100\n",
            "322/322 - 1s - loss: 0.5582 - accuracy: 0.7268 - val_loss: 0.5441 - val_accuracy: 0.7399 - 932ms/epoch - 3ms/step\n",
            "Epoch 17/100\n",
            "322/322 - 1s - loss: 0.5577 - accuracy: 0.7271 - val_loss: 0.5423 - val_accuracy: 0.7407 - 683ms/epoch - 2ms/step\n",
            "Epoch 18/100\n",
            "322/322 - 1s - loss: 0.5573 - accuracy: 0.7268 - val_loss: 0.5439 - val_accuracy: 0.7413 - 667ms/epoch - 2ms/step\n",
            "Epoch 19/100\n",
            "322/322 - 1s - loss: 0.5571 - accuracy: 0.7273 - val_loss: 0.5435 - val_accuracy: 0.7415 - 607ms/epoch - 2ms/step\n",
            "Epoch 20/100\n",
            "322/322 - 1s - loss: 0.5567 - accuracy: 0.7270 - val_loss: 0.5437 - val_accuracy: 0.7411 - 678ms/epoch - 2ms/step\n",
            "Epoch 21/100\n",
            "322/322 - 1s - loss: 0.5566 - accuracy: 0.7279 - val_loss: 0.5440 - val_accuracy: 0.7413 - 666ms/epoch - 2ms/step\n",
            "Epoch 22/100\n",
            "322/322 - 1s - loss: 0.5567 - accuracy: 0.7274 - val_loss: 0.5422 - val_accuracy: 0.7417 - 658ms/epoch - 2ms/step\n",
            "Epoch 23/100\n",
            "322/322 - 1s - loss: 0.5563 - accuracy: 0.7271 - val_loss: 0.5427 - val_accuracy: 0.7421 - 671ms/epoch - 2ms/step\n",
            "Epoch 24/100\n",
            "322/322 - 1s - loss: 0.5559 - accuracy: 0.7279 - val_loss: 0.5446 - val_accuracy: 0.7407 - 612ms/epoch - 2ms/step\n",
            "Epoch 25/100\n",
            "322/322 - 1s - loss: 0.5560 - accuracy: 0.7285 - val_loss: 0.5427 - val_accuracy: 0.7431 - 655ms/epoch - 2ms/step\n",
            "Epoch 26/100\n",
            "322/322 - 1s - loss: 0.5559 - accuracy: 0.7272 - val_loss: 0.5429 - val_accuracy: 0.7415 - 610ms/epoch - 2ms/step\n",
            "Epoch 27/100\n",
            "322/322 - 1s - loss: 0.5556 - accuracy: 0.7286 - val_loss: 0.5426 - val_accuracy: 0.7415 - 605ms/epoch - 2ms/step\n"
          ]
        }
      ]
    },
    {
      "cell_type": "code",
      "source": [],
      "metadata": {
        "id": "V3iEaTO9pck0"
      },
      "execution_count": null,
      "outputs": []
    },
    {
      "cell_type": "code",
      "source": [
        "# Evaluate the model using the test data\n",
        "model_loss, model_accuracy = nn_model2.evaluate(X_test_scaled,y_test,verbose=2)\n",
        "print(f\"Loss: {model_loss}, Accuracy: {model_accuracy}\")"
      ],
      "metadata": {
        "colab": {
          "base_uri": "https://localhost:8080/"
        },
        "id": "j36pQytxonKb",
        "outputId": "12446f43-e915-4f98-8b26-0f0fcb9a5c91"
      },
      "execution_count": 33,
      "outputs": [
        {
          "output_type": "stream",
          "name": "stdout",
          "text": [
            "268/268 - 0s - loss: 0.5518 - accuracy: 0.7341 - 338ms/epoch - 1ms/step\n",
            "Loss: 0.5517629981040955, Accuracy: 0.7341107726097107\n"
          ]
        }
      ]
    },
    {
      "cell_type": "code",
      "source": [
        "# Define the model - deep neural net, i.e., the number of input features and hidden nodes for each layer.\n",
        "#  YOUR CODE GOES HERE\n",
        "\n",
        "nn_model3 = tf.keras.models.Sequential()\n",
        "\n",
        "# First hidden layer\n",
        "nn_model3.add(tf.keras.layers.Dense(input_dim=40, units=64, activation=\"tanh\"))\n",
        "\n",
        "# Second hidden layer\n",
        "nn_model3.add(tf.keras.layers.Dense(units=32, activation=\"tanh\"))\n",
        "\n",
        "# Third hidden layer\n",
        "nn_model3.add(tf.keras.layers.Dense(units=16, activation=\"tanh\"))\n",
        "\n",
        "# Third hidden layer\n",
        "nn_model3.add(tf.keras.layers.Dense(units=8, activation=\"tanh\"))\n",
        "\n",
        "# Third hidden layer\n",
        "nn_model3.add(tf.keras.layers.Dense(units=4, activation=\"tanh\"))\n",
        "\n",
        "# Third hidden layer\n",
        "nn_model3.add(tf.keras.layers.Dense(units=2, activation=\"tanh\"))\n",
        "\n",
        "# Output layer\n",
        "nn_model3.add(tf.keras.layers.Dense(units=1, activation=\"sigmoid\"))\n",
        "\n",
        "# Check the structure of the model\n",
        "nn_model3.summary()\n",
        "\n",
        "early_stopping = EarlyStopping(monitor='val_loss', patience=5, restore_best_weights=True)"
      ],
      "metadata": {
        "colab": {
          "base_uri": "https://localhost:8080/"
        },
        "id": "_MlYdIAbo0cS",
        "outputId": "4da0da8c-1ba4-4b63-8311-8817b09be34d"
      },
      "execution_count": 43,
      "outputs": [
        {
          "output_type": "stream",
          "name": "stdout",
          "text": [
            "Model: \"sequential_9\"\n",
            "_________________________________________________________________\n",
            " Layer (type)                Output Shape              Param #   \n",
            "=================================================================\n",
            " dense_42 (Dense)            (None, 64)                2624      \n",
            "                                                                 \n",
            " dense_43 (Dense)            (None, 32)                2080      \n",
            "                                                                 \n",
            " dense_44 (Dense)            (None, 16)                528       \n",
            "                                                                 \n",
            " dense_45 (Dense)            (None, 8)                 136       \n",
            "                                                                 \n",
            " dense_46 (Dense)            (None, 4)                 36        \n",
            "                                                                 \n",
            " dense_47 (Dense)            (None, 2)                 10        \n",
            "                                                                 \n",
            " dense_48 (Dense)            (None, 1)                 3         \n",
            "                                                                 \n",
            "=================================================================\n",
            "Total params: 5417 (21.16 KB)\n",
            "Trainable params: 5417 (21.16 KB)\n",
            "Non-trainable params: 0 (0.00 Byte)\n",
            "_________________________________________________________________\n"
          ]
        }
      ]
    },
    {
      "cell_type": "code",
      "source": [
        "# Compile the model\n",
        "nn_model3.compile(loss=\"binary_crossentropy\", optimizer=\"adam\", metrics=[\"accuracy\"])\n",
        "nn_model3.save(\"/Users/ahlden/DataAnalytics/deep-learning-challenge/model3.h5\")"
      ],
      "metadata": {
        "id": "W2MT7qmppWMS"
      },
      "execution_count": 44,
      "outputs": []
    },
    {
      "cell_type": "code",
      "source": [
        "history = nn_model3.fit(X_train_scaled, y_train, epochs=100, batch_size=64,\n",
        "                        validation_split=0.2, callbacks=[early_stopping], verbose=2)"
      ],
      "metadata": {
        "colab": {
          "base_uri": "https://localhost:8080/"
        },
        "id": "sJnQlT_updkG",
        "outputId": "195f3803-0577-451b-f78a-55c81f5e8a8c"
      },
      "execution_count": 45,
      "outputs": [
        {
          "output_type": "stream",
          "name": "stdout",
          "text": [
            "Epoch 1/100\n",
            "322/322 - 2s - loss: 0.6000 - accuracy: 0.7103 - val_loss: 0.5668 - val_accuracy: 0.7399 - 2s/epoch - 7ms/step\n",
            "Epoch 2/100\n",
            "322/322 - 1s - loss: 0.5776 - accuracy: 0.7240 - val_loss: 0.5548 - val_accuracy: 0.7452 - 745ms/epoch - 2ms/step\n",
            "Epoch 3/100\n",
            "322/322 - 1s - loss: 0.5700 - accuracy: 0.7263 - val_loss: 0.5505 - val_accuracy: 0.7429 - 770ms/epoch - 2ms/step\n",
            "Epoch 4/100\n",
            "322/322 - 1s - loss: 0.5652 - accuracy: 0.7284 - val_loss: 0.5509 - val_accuracy: 0.7432 - 755ms/epoch - 2ms/step\n",
            "Epoch 5/100\n",
            "322/322 - 1s - loss: 0.5633 - accuracy: 0.7271 - val_loss: 0.5454 - val_accuracy: 0.7431 - 760ms/epoch - 2ms/step\n",
            "Epoch 6/100\n",
            "322/322 - 1s - loss: 0.5611 - accuracy: 0.7272 - val_loss: 0.5464 - val_accuracy: 0.7423 - 728ms/epoch - 2ms/step\n",
            "Epoch 7/100\n",
            "322/322 - 1s - loss: 0.5598 - accuracy: 0.7280 - val_loss: 0.5469 - val_accuracy: 0.7419 - 724ms/epoch - 2ms/step\n",
            "Epoch 8/100\n",
            "322/322 - 1s - loss: 0.5586 - accuracy: 0.7292 - val_loss: 0.5456 - val_accuracy: 0.7429 - 704ms/epoch - 2ms/step\n",
            "Epoch 9/100\n",
            "322/322 - 1s - loss: 0.5578 - accuracy: 0.7286 - val_loss: 0.5471 - val_accuracy: 0.7359 - 717ms/epoch - 2ms/step\n",
            "Epoch 10/100\n",
            "322/322 - 1s - loss: 0.5568 - accuracy: 0.7296 - val_loss: 0.5427 - val_accuracy: 0.7432 - 1s/epoch - 3ms/step\n",
            "Epoch 11/100\n",
            "322/322 - 1s - loss: 0.5553 - accuracy: 0.7286 - val_loss: 0.5442 - val_accuracy: 0.7421 - 1s/epoch - 4ms/step\n",
            "Epoch 12/100\n",
            "322/322 - 1s - loss: 0.5550 - accuracy: 0.7300 - val_loss: 0.5445 - val_accuracy: 0.7434 - 864ms/epoch - 3ms/step\n",
            "Epoch 13/100\n",
            "322/322 - 1s - loss: 0.5542 - accuracy: 0.7298 - val_loss: 0.5438 - val_accuracy: 0.7421 - 736ms/epoch - 2ms/step\n",
            "Epoch 14/100\n",
            "322/322 - 1s - loss: 0.5534 - accuracy: 0.7305 - val_loss: 0.5444 - val_accuracy: 0.7436 - 761ms/epoch - 2ms/step\n",
            "Epoch 15/100\n",
            "322/322 - 1s - loss: 0.5532 - accuracy: 0.7299 - val_loss: 0.5441 - val_accuracy: 0.7423 - 738ms/epoch - 2ms/step\n"
          ]
        }
      ]
    },
    {
      "cell_type": "code",
      "source": [
        "# Evaluate the model using the test data\n",
        "model_loss, model_accuracy = nn_model3.evaluate(X_test_scaled,y_test,verbose=2)\n",
        "print(f\"Loss: {model_loss}, Accuracy: {model_accuracy}\")"
      ],
      "metadata": {
        "colab": {
          "base_uri": "https://localhost:8080/"
        },
        "id": "ZoYen5gTpnmS",
        "outputId": "4b7d53be-d3e9-4399-fdc9-d9f3a60d461e"
      },
      "execution_count": 46,
      "outputs": [
        {
          "output_type": "stream",
          "name": "stdout",
          "text": [
            "268/268 - 0s - loss: 0.5528 - accuracy: 0.7322 - 344ms/epoch - 1ms/step\n",
            "Loss: 0.5528221130371094, Accuracy: 0.7322449088096619\n"
          ]
        }
      ]
    }
  ]
}